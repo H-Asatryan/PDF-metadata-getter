{
 "cells": [
  {
   "cell_type": "code",
   "execution_count": 5,
   "metadata": {},
   "outputs": [],
   "source": [
    "import pymupdf"
   ]
  },
  {
   "cell_type": "code",
   "execution_count": 6,
   "metadata": {},
   "outputs": [],
   "source": [
    "# Open the original PDF file\n",
    "pdf_document = pymupdf.open('mypdf.pdf')\n",
    "\n",
    "# Get the total number of pages\n",
    "num_pages = pdf_document.page_count"
   ]
  },
  {
   "cell_type": "code",
   "execution_count": 7,
   "metadata": {},
   "outputs": [],
   "source": [
    "# Select the last page\n",
    "pdf_document.select([num_pages-1])\n",
    "\n",
    "# Save the updated PDF document (last page!)\n",
    "pdf_document.save('mypdf_updated.pdf')\n",
    "\n",
    "# Close the PDF document\n",
    "pdf_document.close()"
   ]
  }
 ],
 "metadata": {
  "kernelspec": {
   "display_name": "lewagon",
   "language": "python",
   "name": "python3"
  },
  "language_info": {
   "codemirror_mode": {
    "name": "ipython",
    "version": 3
   },
   "file_extension": ".py",
   "mimetype": "text/x-python",
   "name": "python",
   "nbconvert_exporter": "python",
   "pygments_lexer": "ipython3",
   "version": "3.10.6"
  }
 },
 "nbformat": 4,
 "nbformat_minor": 2
}
